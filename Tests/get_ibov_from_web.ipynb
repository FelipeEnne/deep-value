{
 "cells": [
  {
   "cell_type": "code",
   "execution_count": 1,
   "id": "08fc611c",
   "metadata": {},
   "outputs": [],
   "source": [
    "import pandas as pd\n",
    "\n",
    "pd.set_option('display.min_rows', 50)\n",
    "pd.set_option('display.max_rows', 200)"
   ]
  },
  {
   "cell_type": "code",
   "execution_count": 36,
   "id": "6c958a5a",
   "metadata": {},
   "outputs": [],
   "source": [
    "#!pip install html5lib\n",
    "#url = \"https://www.b3.com.br/pt_br/market-data-e-indices/indices/indices-amplos/indice-ibovespa-ibovespa-composicao-da-carteira.htm\"\n",
    "#pd.read_html(url)"
   ]
  },
  {
   "cell_type": "code",
   "execution_count": 26,
   "id": "849f32f3",
   "metadata": {},
   "outputs": [
    {
     "name": "stdout",
     "output_type": "stream",
     "text": [
      "Requirement already satisfied: selenium in c:\\users\\felip\\anaconda3\\lib\\site-packages (4.3.0)\n",
      "Requirement already satisfied: trio~=0.17 in c:\\users\\felip\\anaconda3\\lib\\site-packages (from selenium) (0.21.0)\n",
      "Requirement already satisfied: urllib3[secure,socks]~=1.26 in c:\\users\\felip\\anaconda3\\lib\\site-packages (from selenium) (1.26.9)\n",
      "Requirement already satisfied: trio-websocket~=0.9 in c:\\users\\felip\\anaconda3\\lib\\site-packages (from selenium) (0.9.2)\n",
      "Requirement already satisfied: async-generator>=1.9 in c:\\users\\felip\\anaconda3\\lib\\site-packages (from trio~=0.17->selenium) (1.10)\n",
      "Requirement already satisfied: idna in c:\\users\\felip\\anaconda3\\lib\\site-packages (from trio~=0.17->selenium) (3.3)\n",
      "Requirement already satisfied: attrs>=19.2.0 in c:\\users\\felip\\anaconda3\\lib\\site-packages (from trio~=0.17->selenium) (21.4.0)\n",
      "Requirement already satisfied: sortedcontainers in c:\\users\\felip\\anaconda3\\lib\\site-packages (from trio~=0.17->selenium) (2.4.0)\n",
      "Requirement already satisfied: outcome in c:\\users\\felip\\anaconda3\\lib\\site-packages (from trio~=0.17->selenium) (1.2.0)\n",
      "Requirement already satisfied: cffi>=1.14 in c:\\users\\felip\\anaconda3\\lib\\site-packages (from trio~=0.17->selenium) (1.15.0)\n",
      "Requirement already satisfied: sniffio in c:\\users\\felip\\anaconda3\\lib\\site-packages (from trio~=0.17->selenium) (1.2.0)\n",
      "Requirement already satisfied: pycparser in c:\\users\\felip\\anaconda3\\lib\\site-packages (from cffi>=1.14->trio~=0.17->selenium) (2.21)\n",
      "Requirement already satisfied: wsproto>=0.14 in c:\\users\\felip\\anaconda3\\lib\\site-packages (from trio-websocket~=0.9->selenium) (1.1.0)\n",
      "Requirement already satisfied: PySocks!=1.5.7,<2.0,>=1.5.6 in c:\\users\\felip\\anaconda3\\lib\\site-packages (from urllib3[secure,socks]~=1.26->selenium) (1.7.1)\n",
      "Requirement already satisfied: pyOpenSSL>=0.14 in c:\\users\\felip\\anaconda3\\lib\\site-packages (from urllib3[secure,socks]~=1.26->selenium) (21.0.0)\n",
      "Requirement already satisfied: cryptography>=1.3.4 in c:\\users\\felip\\anaconda3\\lib\\site-packages (from urllib3[secure,socks]~=1.26->selenium) (3.4.8)\n",
      "Requirement already satisfied: certifi in c:\\users\\felip\\anaconda3\\lib\\site-packages (from urllib3[secure,socks]~=1.26->selenium) (2021.10.8)\n",
      "Requirement already satisfied: six>=1.5.2 in c:\\users\\felip\\anaconda3\\lib\\site-packages (from pyOpenSSL>=0.14->urllib3[secure,socks]~=1.26->selenium) (1.16.0)\n",
      "Requirement already satisfied: h11<1,>=0.9.0 in c:\\users\\felip\\anaconda3\\lib\\site-packages (from wsproto>=0.14->trio-websocket~=0.9->selenium) (0.13.0)\n",
      "Collecting webdriver-manager\n",
      "  Downloading webdriver_manager-3.8.3-py2.py3-none-any.whl (26 kB)\n",
      "Requirement already satisfied: tqdm in c:\\users\\felip\\anaconda3\\lib\\site-packages (from webdriver-manager) (4.64.0)\n",
      "Collecting python-dotenv\n",
      "  Downloading python_dotenv-0.20.0-py3-none-any.whl (17 kB)\n",
      "Requirement already satisfied: requests in c:\\users\\felip\\anaconda3\\lib\\site-packages (from webdriver-manager) (2.27.1)\n",
      "Requirement already satisfied: charset-normalizer~=2.0.0 in c:\\users\\felip\\anaconda3\\lib\\site-packages (from requests->webdriver-manager) (2.0.4)\n",
      "Requirement already satisfied: idna<4,>=2.5 in c:\\users\\felip\\anaconda3\\lib\\site-packages (from requests->webdriver-manager) (3.3)\n",
      "Requirement already satisfied: urllib3<1.27,>=1.21.1 in c:\\users\\felip\\anaconda3\\lib\\site-packages (from requests->webdriver-manager) (1.26.9)\n",
      "Requirement already satisfied: certifi>=2017.4.17 in c:\\users\\felip\\anaconda3\\lib\\site-packages (from requests->webdriver-manager) (2021.10.8)\n",
      "Requirement already satisfied: colorama in c:\\users\\felip\\anaconda3\\lib\\site-packages (from tqdm->webdriver-manager) (0.4.4)\n",
      "Installing collected packages: python-dotenv, webdriver-manager\n",
      "Successfully installed python-dotenv-0.20.0 webdriver-manager-3.8.3\n"
     ]
    },
    {
     "name": "stderr",
     "output_type": "stream",
     "text": [
      "[WDM] - Downloading: 100%|████████████████████████████████████████████████████████| 6.13M/6.13M [00:00<00:00, 7.02MB/s]\n"
     ]
    },
    {
     "name": "stdout",
     "output_type": "stream",
     "text": [
      "Requirement already satisfied: html5lib in c:\\users\\felip\\anaconda3\\lib\\site-packages (1.1)\n",
      "Requirement already satisfied: webencodings in c:\\users\\felip\\anaconda3\\lib\\site-packages (from html5lib) (0.5.1)\n",
      "Requirement already satisfied: six>=1.9 in c:\\users\\felip\\anaconda3\\lib\\site-packages (from html5lib) (1.16.0)\n"
     ]
    }
   ],
   "source": [
    "!pip install selenium\n",
    "!pip install webdriver-manager\n",
    "\n",
    "from selenium import webdriver\n",
    "from selenium.webdriver.chrome.service import Service\n",
    "from webdriver_manager.chrome import ChromeDriverManager\n",
    "from selenium.webdriver.common.by import By\n",
    "\n",
    "driver = webdriver.Chrome(service=Service(ChromeDriverManager().install()))\n",
    "driver.implicitly_wait(30)\n",
    "\n",
    "\n",
    "driver.get('https://sistemaswebb3-listados.b3.com.br/indexPage/day/IBOV?language=pt-br')\n"
   ]
  },
  {
   "cell_type": "code",
   "execution_count": 34,
   "id": "207c1e98",
   "metadata": {},
   "outputs": [],
   "source": [
    "#driver.find_element(By.CLASS_NAME,\"table\").get_attribute(\"outerHTML\")"
   ]
  },
  {
   "cell_type": "code",
   "execution_count": 32,
   "id": "f1fbb2d1",
   "metadata": {},
   "outputs": [],
   "source": [
    "df=pd.read_html(driver.find_element(By.ID,\"divContainerIframeB3\").get_attribute(\"outerHTML\"))"
   ]
  },
  {
   "cell_type": "code",
   "execution_count": 33,
   "id": "2b2455c6",
   "metadata": {},
   "outputs": [
    {
     "data": {
      "text/plain": [
       "[                      Código                      Ação  \\\n",
       " 0                      RRRP3              3R PETROLEUM   \n",
       " 1                      ALPA4                ALPARGATAS   \n",
       " 2                      ABEV3                 AMBEV S/A   \n",
       " 3                      AMER3                AMERICANAS   \n",
       " 4                      ASAI3                     ASSAI   \n",
       " 5                      AZUL4                      AZUL   \n",
       " 6                      B3SA3                        B3   \n",
       " 7                      BPAN4                 BANCO PAN   \n",
       " 8                      BBSE3              BBSEGURIDADE   \n",
       " 9                      BRML3              BR MALLS PAR   \n",
       " 10                     BBDC3                  BRADESCO   \n",
       " 11                     BBDC4                  BRADESCO   \n",
       " 12                     BRAP4                 BRADESPAR   \n",
       " 13                     BBAS3                    BRASIL   \n",
       " 14                     BRKM5                   BRASKEM   \n",
       " 15                     BRFS3                    BRF SA   \n",
       " 16                    BPAC11                BTGP BANCO   \n",
       " 17                     CRFB3              CARREFOUR BR   \n",
       " 18                     CCRO3                    CCR SA   \n",
       " 19                     CMIG4                     CEMIG   \n",
       " 20  Quantidade Teórica Total  Quantidade Teórica Total   \n",
       " 21                   Redutor                   Redutor   \n",
       " \n",
       "                         Tipo        Qtde. Teórica  Part. (%)  \n",
       " 0                      ON NM          200.372.163      340.0  \n",
       " 1                      PN N1          201.257.220      222.0  \n",
       " 2                         ON        4.380.195.841     3319.0  \n",
       " 3                      ON NM          596.875.824      456.0  \n",
       " 4                      ON NM          794.531.367      681.0  \n",
       " 5                      PN N2          327.741.172      206.0  \n",
       " 6                      ON NM        5.987.625.321     3461.0  \n",
       " 7                      PN N1          341.124.068      120.0  \n",
       " 8                      ON NM          671.629.692      993.0  \n",
       " 9                      ON NM          828.273.884      350.0  \n",
       " 10                  ON EJ N1        1.516.726.535     1164.0  \n",
       " 11                  PN EJ N1        5.160.570.290     4797.0  \n",
       " 12                     PN N1          251.402.249      284.0  \n",
       " 13                     ON NM        1.420.530.937     2679.0  \n",
       " 14                    PNA N1          264.975.728      474.0  \n",
       " 15                     ON NM        1.076.512.610      949.0  \n",
       " 16                    UNT N2        1.301.655.996     1560.0  \n",
       " 17                     ON NM          410.988.561      410.0  \n",
       " 18                     ON NM        1.115.693.556      777.0  \n",
       " 19                     PN N1        1.448.479.060      851.0  \n",
       " 20  Quantidade Teórica Total       96.848.399.913   100000.0  \n",
       " 21                   Redutor  18.606.851,47694913        NaN  ]"
      ]
     },
     "execution_count": 33,
     "metadata": {},
     "output_type": "execute_result"
    }
   ],
   "source": [
    "df"
   ]
  }
 ],
 "metadata": {
  "kernelspec": {
   "display_name": "Python 3 (ipykernel)",
   "language": "python",
   "name": "python3"
  },
  "language_info": {
   "codemirror_mode": {
    "name": "ipython",
    "version": 3
   },
   "file_extension": ".py",
   "mimetype": "text/x-python",
   "name": "python",
   "nbconvert_exporter": "python",
   "pygments_lexer": "ipython3",
   "version": "3.9.12"
  }
 },
 "nbformat": 4,
 "nbformat_minor": 5
}
