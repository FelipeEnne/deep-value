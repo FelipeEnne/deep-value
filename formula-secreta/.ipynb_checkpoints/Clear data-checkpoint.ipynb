{
 "cells": [
  {
   "cell_type": "code",
   "execution_count": 1,
   "id": "ef29225f",
   "metadata": {},
   "outputs": [],
   "source": [
    "import pandas as pd\n",
    "import glob\n"
   ]
  },
  {
   "cell_type": "code",
   "execution_count": 4,
   "id": "4fb47473",
   "metadata": {},
   "outputs": [
    {
     "name": "stdout",
     "output_type": "stream",
     "text": [
      "['AERI3.csv', 'AGXY3.csv', 'ALLD3.csv', 'ALUP11.csv', 'AMBP3.csv', 'APER3.csv', 'ARML3.csv', 'AURA33.csv', 'AURE3.csv', 'B3SA3.csv', 'BBAS3.csv', 'BBDC3.csv', 'BBDC4.csv', 'BBSE3.csv', 'BEEF3.csv', 'BIDI3.csv', 'BIDI4.csv', 'BKBR3.csv', 'BLAU3.csv', 'BMGB4.csv', 'BMOB3.csv', 'BOAS3.csv', 'BPAC11.csv', 'BPAN4.csv', 'BRAP3.csv', 'BRAP4.csv', 'BRFS3.csv', 'BRIT3.csv', 'BRKM3.csv', 'BRKM5.csv', 'BRML3.csv', 'BRPR3.csv', 'BRSR6.csv', 'CAML3.csv', 'CARD3.csv', 'CASH3.csv', 'CBAV3.csv', 'CCRO3.csv', 'CEAB3.csv', 'CGRA4.csv', 'CIEL3.csv', 'CLSA3.csv', 'CLSC4.csv', 'CMIG3.csv', 'CMIG4.csv', 'CMIN3.csv', 'COCE5.csv', 'COGN3.csv', 'CPFE3.csv', 'CPLE11.csv', 'CPLE3.csv', 'CPLE6.csv', 'CRFB3.csv', 'CSAN3.csv', 'CSED3.csv', 'CSMG3.csv', 'CSNA3.csv', 'CURY3.csv', 'CVCB3.csv', 'CXSE3.csv', 'CYRE3.csv', 'DASA3.csv', 'DESK3.csv', 'DEXP3.csv', 'DIRR3.csv', 'DMMO3.csv', 'DMVF3.csv', 'DXCO3.csv', 'ECOR3.csv', 'EGIE3.csv', 'ELET3.csv', 'ELET6.csv', 'ELMD3.csv', 'EMBR3.csv', 'ENAT3.csv', 'ENBR3.csv', 'ENEV3.csv', 'ENGI11.csv', 'ENJU3.csv', 'EQTL3.csv', 'ESPA3.csv', 'ETER3.csv', 'EUCA4.csv', 'EVEN3.csv', 'EZTC3.csv', 'FESA4.csv', 'FHER3.csv', 'FIQE3.csv', 'FLRY3.csv', 'FRAS3.csv', 'G2DI33.csv', 'GFSA3.csv', 'GGBR3.csv', 'GGBR4.csv', 'GGPS3.csv', 'GMAT3.csv', 'GOAU3.csv', 'GOAU4.csv', 'GOLL4.csv', 'GRND3.csv', 'GUAR3.csv', 'HAPV3.csv', 'HBOR3.csv', 'HBRE3.csv', 'HBSA3.csv', 'HYPE3.csv', 'IFCM3.csv', 'IGTI3.csv', 'INEP3.csv', 'INEP4.csv', 'INTB3.csv', 'IRBR3.csv', 'ITSA3.csv', 'ITSA4.csv', 'ITUB3.csv', 'ITUB4.csv', 'JALL3.csv', 'JBSS3.csv', 'JHSF3.csv', 'JSLG3.csv', 'KEPL3.csv', 'KLBN11.csv', 'KLBN3.csv', 'KLBN4.csv', 'KRSA3.csv', 'LAVV3.csv', 'LCAM3.csv', 'LEVE3.csv', 'LIGT3.csv', 'LJQQ3.csv', 'LLIS3.csv', 'LOGG3.csv', 'LOGN3.csv', 'LPSB3.csv', 'LREN3.csv', 'LUPA3.csv', 'LVTC3.csv', 'LWSA3.csv', 'MATD3.csv', 'MBLY3.csv', 'MDIA3.csv', 'MDNE3.csv', 'MEAL3.csv', 'MEGA3.csv', 'MELK3.csv', 'MGLU3.csv', 'MILS3.csv', 'MLAS3.csv', 'MOAR3.csv', 'MODL11.csv', 'MOVI3.csv', 'MRFG3.csv', 'MRVE3.csv', 'MTRE3.csv', 'MULT3.csv', 'MYPK3.csv', 'NEOE3.csv', 'NGRD3.csv', 'NINJ3.csv', 'NTCO3.csv', 'ODPV3.csv', 'OFSA3.csv', 'OIBR3.csv', 'OIBR4.csv', 'ONCO3.csv', 'OPCT3.csv', 'ORVR3.csv', 'PARD3.csv', 'PCAR3.csv', 'PDGR3.csv', 'PETR3.csv', 'PETR4.csv', 'PETZ3.csv', 'PFRM3.csv', 'PGMN3.csv', 'PLPL3.csv', 'PMAM3.csv', 'PNVL3.csv', 'POMO4.csv', 'PORT3.csv', 'POSI3.csv', 'PRIO3.csv', 'PRNR3.csv', 'PSSA3.csv', 'PTBL3.csv', 'QUAL3.csv', 'RAIZ4.csv', 'RANI3.csv', 'RCSL3.csv', 'RCSL4.csv', 'ROMI3.csv', 'RRRP3.csv', 'SANB11.csv', 'SAPR11.csv', 'SEQL3.csv', 'SHOW3.csv', 'SHUL4.csv', 'SIMH3.csv', 'SLCE3.csv', 'SMFT3.csv', 'SMTO3.csv', 'SOMA3.csv', 'SQIA3.csv', 'STBP3.csv', 'SULA11.csv', 'SUZB3.csv', 'SYNE3.csv', 'TAEE11.csv', 'TAEE3.csv', 'TAEE4.csv', 'TASA3.csv', 'TASA4.csv', 'TCSA3.csv', 'TECN3.csv', 'TEND3.csv', 'TFCO4.csv', 'TGMA3.csv', 'TIMS3.csv', 'TOTS3.csv', 'TPIS3.csv', 'TRAD3.csv', 'TRIS3.csv', 'TRPL4.csv', 'TTEN3.csv', 'TUPY3.csv', 'UCAS3.csv', 'UGPA3.csv', 'UNIP3.csv', 'UNIP6.csv', 'USIM3.csv', 'USIM5.csv', 'VALE3.csv', 'VAMO3.csv', 'VBBR3.csv', 'VIIA3.csv', 'VITT3.csv', 'VIVA3.csv', 'VIVR3.csv', 'VIVT3.csv', 'VLID3.csv', 'VULC3.csv', 'VVEO3.csv', 'WEGE3.csv', 'WEST3.csv', 'WIZS3.csv', 'YDUQ3.csv']\n"
     ]
    }
   ],
   "source": [
    "# specifying the path to csv files\n",
    "path = 'C:\\\\Users\\\\felip\\\\Projetos\\\\deep-value\\\\formula-secreta\\\\data'\n",
    "\n",
    "# csv files in the path\n",
    "files = glob.glob(path + \"/*.csv\")\n",
    "  \n",
    "# defining an empty list to store \n",
    "# content\n",
    "data_frame = pd.DataFrame()\n",
    "content = []\n",
    "  \n",
    "# checking all the csv files in the \n",
    "# specified path\n",
    "    # reading content of csv file\n",
    "    # content.append(filename)\n",
    "for filename in files:\n",
    "    df = pd.read_csv(filename, index_col=None)\n",
    "    content.append(df)\n",
    "  \n",
    "# converting content to data frame\n",
    "data_frame = pd.concat(content)\n",
    "print(data_frame)"
   ]
  },
  {
   "cell_type": "code",
   "execution_count": 5,
   "id": "581a1887",
   "metadata": {},
   "outputs": [
    {
     "data": {
      "text/plain": [
       "246"
      ]
     },
     "execution_count": 5,
     "metadata": {},
     "output_type": "execute_result"
    }
   ],
   "source": [
    "len(result)"
   ]
  }
 ],
 "metadata": {
  "kernelspec": {
   "display_name": "Python 3 (ipykernel)",
   "language": "python",
   "name": "python3"
  },
  "language_info": {
   "codemirror_mode": {
    "name": "ipython",
    "version": 3
   },
   "file_extension": ".py",
   "mimetype": "text/x-python",
   "name": "python",
   "nbconvert_exporter": "python",
   "pygments_lexer": "ipython3",
   "version": "3.9.12"
  }
 },
 "nbformat": 4,
 "nbformat_minor": 5
}
