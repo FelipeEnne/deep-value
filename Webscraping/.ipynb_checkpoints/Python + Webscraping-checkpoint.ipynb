{
 "cells": [
  {
   "cell_type": "code",
   "execution_count": 1,
   "id": "b8f58d49",
   "metadata": {},
   "outputs": [],
   "source": [
    "# 1 Inital Conf"
   ]
  },
  {
   "cell_type": "code",
   "execution_count": 2,
   "id": "72a2d837",
   "metadata": {},
   "outputs": [],
   "source": [
    "import re\n",
    "import json\n",
    "from bs4 import BeautifulSoup\n",
    "import requests\n",
    "import pandas as pd"
   ]
  },
  {
   "cell_type": "code",
   "execution_count": 3,
   "id": "e534f48c",
   "metadata": {},
   "outputs": [],
   "source": [
    "urlFundamental = 'https://finance.yahoo.com/quote/{0}/financials?p={1}'"
   ]
  },
  {
   "cell_type": "code",
   "execution_count": 4,
   "id": "34675499",
   "metadata": {},
   "outputs": [],
   "source": [
    "stock = \"ABEV\""
   ]
  },
  {
   "cell_type": "code",
   "execution_count": 5,
   "id": "89df6d30",
   "metadata": {},
   "outputs": [],
   "source": [
    "# 2 Return HTML"
   ]
  },
  {
   "cell_type": "code",
   "execution_count": 6,
   "id": "91266d8c",
   "metadata": {},
   "outputs": [
    {
     "data": {
      "text/plain": [
       "'https://finance.yahoo.com/quote/ABEV/financials?p=ABEV'"
      ]
     },
     "execution_count": 6,
     "metadata": {},
     "output_type": "execute_result"
    }
   ],
   "source": [
    "url = urlFundamental.format(stock,stock)\n",
    "url"
   ]
  },
  {
   "cell_type": "code",
   "execution_count": 7,
   "id": "a888f764",
   "metadata": {},
   "outputs": [],
   "source": [
    "headers={'User-Agent':'Mozilla/5.0 (Windows NT 10.0; Win64; x64) AppleWebKit/537.36 (KHTML, like Gecko) Chrome/94.0.4606.61 Safari/537.36'}\n",
    "resp = requests.get(url,headers= headers)"
   ]
  },
  {
   "cell_type": "code",
   "execution_count": 8,
   "id": "d325a7f6",
   "metadata": {},
   "outputs": [],
   "source": [
    "brute = BeautifulSoup(resp.text, \"html.parser\")"
   ]
  },
  {
   "cell_type": "code",
   "execution_count": 9,
   "id": "6deec5f8",
   "metadata": {},
   "outputs": [],
   "source": [
    "# 3 Filter page"
   ]
  },
  {
   "cell_type": "code",
   "execution_count": 10,
   "id": "026ba3db",
   "metadata": {},
   "outputs": [],
   "source": [
    "pattern = re.compile(r'\\s--\\sData\\s--\\s')\n",
    "brute_datas = brute.find('script', text = pattern).contents[0]"
   ]
  },
  {
   "cell_type": "code",
   "execution_count": 11,
   "id": "13f519e5",
   "metadata": {},
   "outputs": [
    {
     "data": {
      "text/plain": [
       "'\\n(function (root) {\\n/* -- Data -- */\\nroot.App || (root.App = {});\\nroot.App.now = 1659791151403;\\nroot.App.main = {\"context\":{\"dispatcher\":{\"stores\":{\"PageStore\":{\"currentPageName\":\"quote\",\"currentEvent\":{\"eventName\":\"NEW_PAGE_SUCCESS\"},\"currentRenderTargetId\":\"default\",\"pagesConfigRaw\":{\"base\":{\"quote\":{\"layout\":{\"bundleName\":\"yahoodotcom-layout.TwoColumnLayout\",\"name\":\"TwoColumnLayout\",\"config\":{\"enableHeaderCollapse\":true,\"additionalBodyWrapperClasses\":\"Bgc($layoutBgColor)!\",\"contentWrapperClas'"
      ]
     },
     "execution_count": 11,
     "metadata": {},
     "output_type": "execute_result"
    }
   ],
   "source": [
    "brute_datas[:500]"
   ]
  },
  {
   "cell_type": "code",
   "execution_count": 12,
   "id": "2bc77567",
   "metadata": {},
   "outputs": [
    {
     "data": {
      "text/plain": [
       "'dv2-applet-sponsored-moments\":{\"strings\":1},\"tdv2-applet-stream\":{\"strings\":1},\"tdv2-applet-stream-hero\":{\"strings\":1},\"tdv2-applet-swisschamp\":{\"strings\":1},\"tdv2-applet-uh\":{\"strings\":1},\"tdv2-applet-userintent\":{\"strings\":1},\"tdv2-applet-video-lightbox\":{\"strings\":1},\"tdv2-applet-video-modal\":{\"strings\":1},\"tdv2-wafer-adfeedback\":{\"strings\":1},\"tdv2-wafer-header\":{\"strings\":1},\"xray\":{\"strings\":1},\"yahoodotcom-layout\":{\"strings\":1}}},\"options\":{\"defaultBundle\":\"td-app-finance\"}}}};\\n}(this));\\n'"
      ]
     },
     "execution_count": 12,
     "metadata": {},
     "output_type": "execute_result"
    }
   ],
   "source": [
    "brute_datas[-500:]"
   ]
  },
  {
   "cell_type": "code",
   "execution_count": 13,
   "id": "7e31d146",
   "metadata": {},
   "outputs": [],
   "source": [
    "init = brute_datas.find(\"context\")-2"
   ]
  },
  {
   "cell_type": "code",
   "execution_count": 14,
   "id": "bb8c3961",
   "metadata": {},
   "outputs": [],
   "source": [
    "dados_json =json.loads(brute_datas[init:-12])"
   ]
  },
  {
   "cell_type": "code",
   "execution_count": 15,
   "id": "856e764a",
   "metadata": {},
   "outputs": [
    {
     "data": {
      "text/plain": [
       "dict"
      ]
     },
     "execution_count": 15,
     "metadata": {},
     "output_type": "execute_result"
    }
   ],
   "source": [
    "type(dados_json)"
   ]
  },
  {
   "cell_type": "code",
   "execution_count": 16,
   "id": "9e85d72f",
   "metadata": {},
   "outputs": [],
   "source": [
    "# 4 Explore struct"
   ]
  },
  {
   "cell_type": "code",
   "execution_count": 17,
   "id": "ebf86a4d",
   "metadata": {},
   "outputs": [
    {
     "data": {
      "text/plain": [
       "dict_keys(['dispatcher', 'options', 'plugins'])"
      ]
     },
     "execution_count": 17,
     "metadata": {},
     "output_type": "execute_result"
    }
   ],
   "source": [
    "dados_json['context'].keys()"
   ]
  },
  {
   "cell_type": "code",
   "execution_count": 18,
   "id": "f90e922c",
   "metadata": {},
   "outputs": [
    {
     "data": {
      "text/plain": [
       "dict_keys(['PageStore', 'MRTStore', 'RouteStore', 'I13nStore', 'PageTransitionStore', 'VideoPlayerStore', 'QuoteAutoCompleteStore', 'NavrailStore', 'StreamDataStore', 'QuoteSummaryStore', 'FinanceConfigStore', 'LangStore', 'BeaconStore', 'AdStore', 'VideoStore', 'ComponentConfigStore', 'CrumbStore', 'CompositeStore', 'MonalixaStore', 'StreamStore', 'UserStore', 'ProfileStore', 'QuotePageStore', 'FinancialTemplateStore', 'QuoteTimeSeriesStore', 'MarketTimeStore', 'RmpStore', 'MarketSummaryStore', 'NavServiceStore', 'RecommendationStore', 'UHAccountSwitchStore', 'MobileHeaderStore'])"
      ]
     },
     "execution_count": 18,
     "metadata": {},
     "output_type": "execute_result"
    }
   ],
   "source": [
    "dados_json['context']['dispatcher']['stores'].keys()"
   ]
  },
  {
   "cell_type": "code",
   "execution_count": 19,
   "id": "3bae55c2",
   "metadata": {},
   "outputs": [
    {
     "data": {
      "text/plain": [
       "dict_keys(['financialsTemplate', 'cashflowStatementHistory', 'balanceSheetHistoryQuarterly', 'earnings', 'price', 'incomeStatementHistoryQuarterly', 'incomeStatementHistory', 'balanceSheetHistory', 'cashflowStatementHistoryQuarterly', 'quoteType', 'summaryDetail', 'symbol', 'pageViews'])"
      ]
     },
     "execution_count": 19,
     "metadata": {},
     "output_type": "execute_result"
    }
   ],
   "source": [
    "dados_json['context']['dispatcher']['stores']['QuoteSummaryStore'].keys()"
   ]
  },
  {
   "cell_type": "code",
   "execution_count": 20,
   "id": "b8ba1c87",
   "metadata": {},
   "outputs": [],
   "source": [
    "# 5 Return Income Statement"
   ]
  },
  {
   "cell_type": "code",
   "execution_count": 21,
   "id": "23346820",
   "metadata": {},
   "outputs": [
    {
     "data": {
      "text/plain": [
       "dict_keys(['incomeStatementHistory', 'maxAge'])"
      ]
     },
     "execution_count": 21,
     "metadata": {},
     "output_type": "execute_result"
    }
   ],
   "source": [
    "dados_json['context']['dispatcher']['stores']['QuoteSummaryStore']['incomeStatementHistoryQuarterly'].keys()"
   ]
  },
  {
   "cell_type": "code",
   "execution_count": 22,
   "id": "e460945e",
   "metadata": {},
   "outputs": [],
   "source": [
    "income_statement = dados_json['context']['dispatcher']['stores']['QuoteSummaryStore']['incomeStatementHistory']['incomeStatementHistory']"
   ]
  },
  {
   "cell_type": "code",
   "execution_count": 23,
   "id": "81625177",
   "metadata": {},
   "outputs": [
    {
     "name": "stdout",
     "output_type": "stream",
     "text": [
      "{'researchDevelopment': {}, 'effectOfAccountingCharges': {}, 'incomeBeforeTax': {'raw': 13759160000, 'fmt': '13.76B', 'longFmt': '13,759,160,000'}, 'minorityInterest': {'raw': 1374586000, 'fmt': '1.37B', 'longFmt': '1,374,586,000'}, 'netIncome': {'raw': 12670968000, 'fmt': '12.67B', 'longFmt': '12,670,968,000'}, 'sellingGeneralAdministrative': {'raw': 21961211000, 'fmt': '21.96B', 'longFmt': '21,961,211,000'}, 'grossProfit': {'raw': 37194600000, 'fmt': '37.19B', 'longFmt': '37,194,600,000'}, 'ebit': {'raw': 17291355000, 'fmt': '17.29B', 'longFmt': '17,291,355,000'}, 'endDate': {'raw': 1640908800, 'fmt': '2021-12-31'}, 'operatingIncome': {'raw': 17291355000, 'fmt': '17.29B', 'longFmt': '17,291,355,000'}, 'otherOperatingExpenses': {'raw': -2057966000, 'fmt': '-2.06B', 'longFmt': '-2,057,966,000'}, 'interestExpense': {'raw': -1431774000, 'fmt': '-1.43B', 'longFmt': '-1,431,774,000'}, 'extraordinaryItems': {}, 'nonRecurring': {}, 'otherItems': {}, 'incomeTaxExpense': {'raw': 636578000, 'fmt': '636.58M', 'longFmt': '636,578,000'}, 'totalRevenue': {'raw': 72854344000, 'fmt': '72.85B', 'longFmt': '72,854,344,000'}, 'totalOperatingExpenses': {'raw': 55562989000, 'fmt': '55.56B', 'longFmt': '55,562,989,000'}, 'costOfRevenue': {'raw': 35659744000, 'fmt': '35.66B', 'longFmt': '35,659,744,000'}, 'totalOtherIncomeExpenseNet': {'raw': -3532195000, 'fmt': '-3.53B', 'longFmt': '-3,532,195,000'}, 'maxAge': 1, 'discontinuedOperations': {}, 'netIncomeFromContinuingOps': {'raw': 13122582000, 'fmt': '13.12B', 'longFmt': '13,122,582,000'}, 'netIncomeApplicableToCommonShares': {'raw': 12670968000, 'fmt': '12.67B', 'longFmt': '12,670,968,000'}}\n"
     ]
    }
   ],
   "source": [
    "print(income_statement[0])"
   ]
  },
  {
   "cell_type": "code",
   "execution_count": 24,
   "id": "cf4ce7df",
   "metadata": {},
   "outputs": [],
   "source": [
    "financial_quarterly = []"
   ]
  },
  {
   "cell_type": "code",
   "execution_count": 25,
   "id": "df1aac00",
   "metadata": {},
   "outputs": [],
   "source": [
    "for s in income_statement:\n",
    "    balance = {}\n",
    "    for key, val in s.items():\n",
    "        try:\n",
    "            balance[key] = val[\"raw\"]\n",
    "        except TypeError:\n",
    "            continue\n",
    "        except KeyError:\n",
    "            continue\n",
    "    financial_quarterly.append(balance)"
   ]
  },
  {
   "cell_type": "code",
   "execution_count": 26,
   "id": "2f59c498",
   "metadata": {},
   "outputs": [
    {
     "data": {
      "text/plain": [
       "[{'incomeBeforeTax': 13759160000,\n",
       "  'minorityInterest': 1374586000,\n",
       "  'netIncome': 12670968000,\n",
       "  'sellingGeneralAdministrative': 21961211000,\n",
       "  'grossProfit': 37194600000,\n",
       "  'ebit': 17291355000,\n",
       "  'endDate': 1640908800,\n",
       "  'operatingIncome': 17291355000,\n",
       "  'otherOperatingExpenses': -2057966000,\n",
       "  'interestExpense': -1431774000,\n",
       "  'incomeTaxExpense': 636578000,\n",
       "  'totalRevenue': 72854344000,\n",
       "  'totalOperatingExpenses': 55562989000,\n",
       "  'costOfRevenue': 35659744000,\n",
       "  'totalOtherIncomeExpenseNet': -3532195000,\n",
       "  'netIncomeFromContinuingOps': 13122582000,\n",
       "  'netIncomeApplicableToCommonShares': 12670968000},\n",
       " {'incomeBeforeTax': 13494441000,\n",
       "  'minorityInterest': 1335496000,\n",
       "  'netIncome': 11379394000,\n",
       "  'sellingGeneralAdministrative': 17685269000,\n",
       "  'grossProfit': 31312896000,\n",
       "  'ebit': 16279757000,\n",
       "  'endDate': 1609372800,\n",
       "  'operatingIncome': 16279757000,\n",
       "  'otherOperatingExpenses': -2652130000,\n",
       "  'interestExpense': -1786600000,\n",
       "  'incomeTaxExpense': 1762532000,\n",
       "  'totalRevenue': 58378995000,\n",
       "  'totalOperatingExpenses': 42099238000,\n",
       "  'costOfRevenue': 27066099000,\n",
       "  'totalOtherIncomeExpenseNet': -2785316000,\n",
       "  'netIncomeFromContinuingOps': 11731909000,\n",
       "  'netIncomeApplicableToCommonShares': 11379394000},\n",
       " {'incomeBeforeTax': 12943005000,\n",
       "  'minorityInterest': 1277980000,\n",
       "  'netIncome': 11779965000,\n",
       "  'sellingGeneralAdministrative': 15432767000,\n",
       "  'grossProfit': 30326961000,\n",
       "  'ebit': 16336142000,\n",
       "  'endDate': 1577750400,\n",
       "  'operatingIncome': 16336142000,\n",
       "  'otherOperatingExpenses': -1441948000,\n",
       "  'interestExpense': -1555873000,\n",
       "  'incomeTaxExpense': 754673000,\n",
       "  'totalRevenue': 52005120000,\n",
       "  'totalOperatingExpenses': 35668978000,\n",
       "  'costOfRevenue': 21678159000,\n",
       "  'totalOtherIncomeExpenseNet': -3393137000,\n",
       "  'netIncomeFromContinuingOps': 12188332000,\n",
       "  'netIncomeApplicableToCommonShares': 11779965000},\n",
       " {'incomeBeforeTax': 13121603000,\n",
       "  'minorityInterest': 1206801000,\n",
       "  'netIncome': 10994961000,\n",
       "  'sellingGeneralAdministrative': 14794989000,\n",
       "  'grossProfit': 30981913000,\n",
       "  'ebit': 17164064000,\n",
       "  'endDate': 1546214400,\n",
       "  'operatingIncome': 17164064000,\n",
       "  'otherOperatingExpenses': -977140000,\n",
       "  'interestExpense': -1495677000,\n",
       "  'incomeTaxExpense': 1773893000,\n",
       "  'totalRevenue': 50231336000,\n",
       "  'totalOperatingExpenses': 33067272000,\n",
       "  'costOfRevenue': 19249423000,\n",
       "  'totalOtherIncomeExpenseNet': -4042461000,\n",
       "  'netIncomeFromContinuingOps': 11347710000,\n",
       "  'netIncomeApplicableToCommonShares': 10994961000}]"
      ]
     },
     "execution_count": 26,
     "metadata": {},
     "output_type": "execute_result"
    }
   ],
   "source": [
    "financial_quarterly"
   ]
  },
  {
   "cell_type": "code",
   "execution_count": 27,
   "id": "7d0a1ffc",
   "metadata": {},
   "outputs": [],
   "source": [
    "trimestre_0 = pd.DataFrame.from_dict(financial_quarterly[0], orient=\"index\").transpose()\n",
    "trimestre_1 = pd.DataFrame.from_dict(financial_quarterly[1], orient=\"index\").transpose()\n",
    "trimestre_2 = pd.DataFrame.from_dict(financial_quarterly[2], orient=\"index\").transpose()\n",
    "trimestre_3 = pd.DataFrame.from_dict(financial_quarterly[3], orient=\"index\").transpose()"
   ]
  },
  {
   "cell_type": "code",
   "execution_count": 28,
   "id": "53c0d72a",
   "metadata": {},
   "outputs": [],
   "source": [
    "income_statement = pd.concat([trimestre_0, trimestre_1, trimestre_2, trimestre_3])"
   ]
  },
  {
   "cell_type": "code",
   "execution_count": 29,
   "id": "87db5efd",
   "metadata": {},
   "outputs": [
    {
     "data": {
      "text/html": [
       "<div>\n",
       "<style scoped>\n",
       "    .dataframe tbody tr th:only-of-type {\n",
       "        vertical-align: middle;\n",
       "    }\n",
       "\n",
       "    .dataframe tbody tr th {\n",
       "        vertical-align: top;\n",
       "    }\n",
       "\n",
       "    .dataframe thead th {\n",
       "        text-align: right;\n",
       "    }\n",
       "</style>\n",
       "<table border=\"1\" class=\"dataframe\">\n",
       "  <thead>\n",
       "    <tr style=\"text-align: right;\">\n",
       "      <th></th>\n",
       "      <th>incomeBeforeTax</th>\n",
       "      <th>minorityInterest</th>\n",
       "      <th>netIncome</th>\n",
       "      <th>sellingGeneralAdministrative</th>\n",
       "      <th>grossProfit</th>\n",
       "      <th>ebit</th>\n",
       "      <th>endDate</th>\n",
       "      <th>operatingIncome</th>\n",
       "      <th>otherOperatingExpenses</th>\n",
       "      <th>interestExpense</th>\n",
       "      <th>incomeTaxExpense</th>\n",
       "      <th>totalRevenue</th>\n",
       "      <th>totalOperatingExpenses</th>\n",
       "      <th>costOfRevenue</th>\n",
       "      <th>totalOtherIncomeExpenseNet</th>\n",
       "      <th>netIncomeFromContinuingOps</th>\n",
       "      <th>netIncomeApplicableToCommonShares</th>\n",
       "    </tr>\n",
       "  </thead>\n",
       "  <tbody>\n",
       "    <tr>\n",
       "      <th>0</th>\n",
       "      <td>13759160000</td>\n",
       "      <td>1374586000</td>\n",
       "      <td>12670968000</td>\n",
       "      <td>21961211000</td>\n",
       "      <td>37194600000</td>\n",
       "      <td>17291355000</td>\n",
       "      <td>1640908800</td>\n",
       "      <td>17291355000</td>\n",
       "      <td>-2057966000</td>\n",
       "      <td>-1431774000</td>\n",
       "      <td>636578000</td>\n",
       "      <td>72854344000</td>\n",
       "      <td>55562989000</td>\n",
       "      <td>35659744000</td>\n",
       "      <td>-3532195000</td>\n",
       "      <td>13122582000</td>\n",
       "      <td>12670968000</td>\n",
       "    </tr>\n",
       "    <tr>\n",
       "      <th>0</th>\n",
       "      <td>13494441000</td>\n",
       "      <td>1335496000</td>\n",
       "      <td>11379394000</td>\n",
       "      <td>17685269000</td>\n",
       "      <td>31312896000</td>\n",
       "      <td>16279757000</td>\n",
       "      <td>1609372800</td>\n",
       "      <td>16279757000</td>\n",
       "      <td>-2652130000</td>\n",
       "      <td>-1786600000</td>\n",
       "      <td>1762532000</td>\n",
       "      <td>58378995000</td>\n",
       "      <td>42099238000</td>\n",
       "      <td>27066099000</td>\n",
       "      <td>-2785316000</td>\n",
       "      <td>11731909000</td>\n",
       "      <td>11379394000</td>\n",
       "    </tr>\n",
       "    <tr>\n",
       "      <th>0</th>\n",
       "      <td>12943005000</td>\n",
       "      <td>1277980000</td>\n",
       "      <td>11779965000</td>\n",
       "      <td>15432767000</td>\n",
       "      <td>30326961000</td>\n",
       "      <td>16336142000</td>\n",
       "      <td>1577750400</td>\n",
       "      <td>16336142000</td>\n",
       "      <td>-1441948000</td>\n",
       "      <td>-1555873000</td>\n",
       "      <td>754673000</td>\n",
       "      <td>52005120000</td>\n",
       "      <td>35668978000</td>\n",
       "      <td>21678159000</td>\n",
       "      <td>-3393137000</td>\n",
       "      <td>12188332000</td>\n",
       "      <td>11779965000</td>\n",
       "    </tr>\n",
       "    <tr>\n",
       "      <th>0</th>\n",
       "      <td>13121603000</td>\n",
       "      <td>1206801000</td>\n",
       "      <td>10994961000</td>\n",
       "      <td>14794989000</td>\n",
       "      <td>30981913000</td>\n",
       "      <td>17164064000</td>\n",
       "      <td>1546214400</td>\n",
       "      <td>17164064000</td>\n",
       "      <td>-977140000</td>\n",
       "      <td>-1495677000</td>\n",
       "      <td>1773893000</td>\n",
       "      <td>50231336000</td>\n",
       "      <td>33067272000</td>\n",
       "      <td>19249423000</td>\n",
       "      <td>-4042461000</td>\n",
       "      <td>11347710000</td>\n",
       "      <td>10994961000</td>\n",
       "    </tr>\n",
       "  </tbody>\n",
       "</table>\n",
       "</div>"
      ],
      "text/plain": [
       "   incomeBeforeTax  minorityInterest    netIncome  \\\n",
       "0      13759160000        1374586000  12670968000   \n",
       "0      13494441000        1335496000  11379394000   \n",
       "0      12943005000        1277980000  11779965000   \n",
       "0      13121603000        1206801000  10994961000   \n",
       "\n",
       "   sellingGeneralAdministrative  grossProfit         ebit     endDate  \\\n",
       "0                   21961211000  37194600000  17291355000  1640908800   \n",
       "0                   17685269000  31312896000  16279757000  1609372800   \n",
       "0                   15432767000  30326961000  16336142000  1577750400   \n",
       "0                   14794989000  30981913000  17164064000  1546214400   \n",
       "\n",
       "   operatingIncome  otherOperatingExpenses  interestExpense  incomeTaxExpense  \\\n",
       "0      17291355000             -2057966000      -1431774000         636578000   \n",
       "0      16279757000             -2652130000      -1786600000        1762532000   \n",
       "0      16336142000             -1441948000      -1555873000         754673000   \n",
       "0      17164064000              -977140000      -1495677000        1773893000   \n",
       "\n",
       "   totalRevenue  totalOperatingExpenses  costOfRevenue  \\\n",
       "0   72854344000             55562989000    35659744000   \n",
       "0   58378995000             42099238000    27066099000   \n",
       "0   52005120000             35668978000    21678159000   \n",
       "0   50231336000             33067272000    19249423000   \n",
       "\n",
       "   totalOtherIncomeExpenseNet  netIncomeFromContinuingOps  \\\n",
       "0                 -3532195000                 13122582000   \n",
       "0                 -2785316000                 11731909000   \n",
       "0                 -3393137000                 12188332000   \n",
       "0                 -4042461000                 11347710000   \n",
       "\n",
       "   netIncomeApplicableToCommonShares  \n",
       "0                        12670968000  \n",
       "0                        11379394000  \n",
       "0                        11779965000  \n",
       "0                        10994961000  "
      ]
     },
     "execution_count": 29,
     "metadata": {},
     "output_type": "execute_result"
    }
   ],
   "source": [
    "income_statement"
   ]
  },
  {
   "cell_type": "code",
   "execution_count": 30,
   "id": "462ca982",
   "metadata": {},
   "outputs": [],
   "source": [
    "# 6 Balance sheet"
   ]
  },
  {
   "cell_type": "code",
   "execution_count": null,
   "id": "4b3437f9",
   "metadata": {},
   "outputs": [],
   "source": []
  }
 ],
 "metadata": {
  "kernelspec": {
   "display_name": "Python 3 (ipykernel)",
   "language": "python",
   "name": "python3"
  },
  "language_info": {
   "codemirror_mode": {
    "name": "ipython",
    "version": 3
   },
   "file_extension": ".py",
   "mimetype": "text/x-python",
   "name": "python",
   "nbconvert_exporter": "python",
   "pygments_lexer": "ipython3",
   "version": "3.9.12"
  }
 },
 "nbformat": 4,
 "nbformat_minor": 5
}
